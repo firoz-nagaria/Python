{
 "cells": [
  {
   "cell_type": "markdown",
   "id": "e7a772fb-2405-4a82-99f0-8b22df3193c1",
   "metadata": {},
   "source": [
    "### **Firoz Nagaria**"
   ]
  },
  {
   "cell_type": "code",
   "execution_count": 1,
   "id": "25d6a961-6cd5-4e23-ac80-e9e033b00686",
   "metadata": {},
   "outputs": [],
   "source": [
    "# importing math library\n",
    "import math as m"
   ]
  },
  {
   "cell_type": "markdown",
   "id": "33288cfd-838a-4af2-9e01-9947de4dd715",
   "metadata": {},
   "source": [
    "### Calculating the area of SQUARE"
   ]
  },
  {
   "cell_type": "code",
   "execution_count": 2,
   "id": "baac6447-541f-43c4-a377-1689a3ca4aa8",
   "metadata": {},
   "outputs": [
    {
     "name": "stdout",
     "output_type": "stream",
     "text": [
      "The area of the square with a unit of 10 is 100\n"
     ]
    }
   ],
   "source": [
    "x = 10\n",
    "A = x**2\n",
    "print ('The area of the square with a unit of', x, 'is', A)"
   ]
  },
  {
   "cell_type": "markdown",
   "id": "0cc4b8ed-48e0-4a38-8bb2-06707b269fe3",
   "metadata": {},
   "source": [
    "### Calculating the area of RECTANGLE"
   ]
  },
  {
   "cell_type": "code",
   "execution_count": 3,
   "id": "91fd9853-4afe-4892-a91a-2e0ca320a0b8",
   "metadata": {},
   "outputs": [
    {
     "name": "stdout",
     "output_type": "stream",
     "text": [
      "The area of the rectangle with a Length of 15 inches and width of 5 inches are 75 inches\n"
     ]
    }
   ],
   "source": [
    "b = 15\n",
    "h = 5\n",
    "A = b*h\n",
    "print ('The area of the rectangle with a Length of', b, 'inches and width of', h, 'inches are', A, 'inches')"
   ]
  },
  {
   "cell_type": "markdown",
   "id": "23644462-3886-46ac-97c0-359a7b2e047e",
   "metadata": {},
   "source": [
    "### Calculating the size of TRIANGLE"
   ]
  },
  {
   "cell_type": "code",
   "execution_count": 4,
   "id": "c73f51bb-d587-4875-8355-667f7e78e5b8",
   "metadata": {},
   "outputs": [
    {
     "name": "stdout",
     "output_type": "stream",
     "text": [
      "The size of the Triangle with a Length of 20 and 5 respectively is 50.0\n"
     ]
    }
   ],
   "source": [
    "b = 20\n",
    "h = 5\n",
    "A = 0.5*b*h\n",
    "print ('The size of the Triangle with a Length of', b, 'and', h, 'respectively is', A)"
   ]
  },
  {
   "cell_type": "markdown",
   "id": "8881f28c-9a43-4d40-88ae-24c4c1a354d4",
   "metadata": {},
   "source": [
    "### Calculating the perimiter of ELLIPSE"
   ]
  },
  {
   "cell_type": "code",
   "execution_count": 5,
   "id": "99b4f921-d1e1-4aa2-8de6-832a27398611",
   "metadata": {},
   "outputs": [
    {
     "name": "stdout",
     "output_type": "stream",
     "text": [
      "The perimiter of the Ellipse with a Axis of 10 and Axis of 8 is 251.33\n"
     ]
    }
   ],
   "source": [
    "a = 10\n",
    "b = 8\n",
    "A = m.pi*a*b\n",
    "print ('The perimiter of the Ellipse with a Axis of', a, 'and Axis of', b, 'is', round(A, 2))"
   ]
  },
  {
   "cell_type": "code",
   "execution_count": 6,
   "id": "2666a8fb-0f26-4e2d-976f-17a7a50d982c",
   "metadata": {},
   "outputs": [],
   "source": [
    "### Calculating the area of CIRCLE"
   ]
  },
  {
   "cell_type": "code",
   "execution_count": 7,
   "id": "5014ab45-3570-44fc-9983-22b8a78ce87e",
   "metadata": {},
   "outputs": [
    {
     "name": "stdout",
     "output_type": "stream",
     "text": [
      "The area of a Circle with a radius of 8 is 201.06\n"
     ]
    }
   ],
   "source": [
    "r = 8\n",
    "A = m.pi*r**2\n",
    "print ('The area of a Circle with a radius of', r, 'is', round(A, 2))"
   ]
  },
  {
   "cell_type": "code",
   "execution_count": 8,
   "id": "fd6da20a-aed0-42bf-b79c-6c75fb336e6a",
   "metadata": {},
   "outputs": [],
   "source": [
    "### Calculating the area of TRAPEZOID"
   ]
  },
  {
   "cell_type": "code",
   "execution_count": 9,
   "id": "6cf3312d-5c4d-43f9-a82f-9677f7cf84bd",
   "metadata": {},
   "outputs": [
    {
     "name": "stdout",
     "output_type": "stream",
     "text": [
      "The total area of a Trapezoid with a Length of a & b are 8 & 10 respectively with the height of 10 . The total area of Trapezoid is 90.0\n"
     ]
    }
   ],
   "source": [
    "a = 8\n",
    "b = 10\n",
    "h = 10\n",
    "A = ((a+b)/2)*h\n",
    "print ('The total area of a Trapezoid with a Length of a & b are', a,'&', b, 'respectively with the height of',h,'. The total area of Trapezoid is', round(A, 2))"
   ]
  },
  {
   "cell_type": "code",
   "execution_count": null,
   "id": "470428dd-895c-43fb-afde-1f6b1291248c",
   "metadata": {},
   "outputs": [],
   "source": []
  }
 ],
 "metadata": {
  "kernelspec": {
   "display_name": "Python 3 (ipykernel)",
   "language": "python",
   "name": "python3"
  },
  "language_info": {
   "codemirror_mode": {
    "name": "ipython",
    "version": 3
   },
   "file_extension": ".py",
   "mimetype": "text/x-python",
   "name": "python",
   "nbconvert_exporter": "python",
   "pygments_lexer": "ipython3",
   "version": "3.10.9"
  }
 },
 "nbformat": 4,
 "nbformat_minor": 5
}
