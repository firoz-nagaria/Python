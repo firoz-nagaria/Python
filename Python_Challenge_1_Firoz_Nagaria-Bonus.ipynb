{
 "cells": [
  {
   "cell_type": "markdown",
   "id": "e7a772fb-2405-4a82-99f0-8b22df3193c1",
   "metadata": {},
   "source": [
    "### **Firoz Nagaria BONUS Challenge**"
   ]
  },
  {
   "cell_type": "code",
   "execution_count": 1,
   "id": "25d6a961-6cd5-4e23-ac80-e9e033b00686",
   "metadata": {},
   "outputs": [],
   "source": [
    "# importing math library\n",
    "import math as m"
   ]
  },
  {
   "cell_type": "code",
   "execution_count": 2,
   "id": "baac6447-541f-43c4-a377-1689a3ca4aa8",
   "metadata": {},
   "outputs": [
    {
     "name": "stdout",
     "output_type": "stream",
     "text": [
      "45\n"
     ]
    }
   ],
   "source": [
    "# Create a variable called ‘angle’ and assign it a value of 45.\n",
    "angle = 45\n",
    "print (angle)\n"
   ]
  },
  {
   "cell_type": "code",
   "execution_count": 3,
   "id": "91fd9853-4afe-4892-a91a-2e0ca320a0b8",
   "metadata": {},
   "outputs": [
    {
     "name": "stdout",
     "output_type": "stream",
     "text": [
      "0.7853981633974483\n"
     ]
    }
   ],
   "source": [
    "# Create a variable called ‘rad_angle’ and use a math function to determine what 45 degrees is in radians. \n",
    "rad_angle = m.radians(angle)\n",
    "print (rad_angle)"
   ]
  },
  {
   "cell_type": "code",
   "execution_count": 4,
   "id": "c73f51bb-d587-4875-8355-667f7e78e5b8",
   "metadata": {},
   "outputs": [
    {
     "name": "stdout",
     "output_type": "stream",
     "text": [
      "0.7071067811865476\n"
     ]
    }
   ],
   "source": [
    "# Calculate the sine of rad_angle.\n",
    "print (m.sin(rad_angle))"
   ]
  },
  {
   "cell_type": "code",
   "execution_count": 5,
   "id": "99b4f921-d1e1-4aa2-8de6-832a27398611",
   "metadata": {},
   "outputs": [
    {
     "name": "stdout",
     "output_type": "stream",
     "text": [
      "0.7071067811865476\n"
     ]
    }
   ],
   "source": [
    "# Calculate the cosine of rad_angle.\n",
    "print (m.cos(rad_angle))"
   ]
  },
  {
   "cell_type": "code",
   "execution_count": 6,
   "id": "2666a8fb-0f26-4e2d-976f-17a7a50d982c",
   "metadata": {},
   "outputs": [
    {
     "name": "stdout",
     "output_type": "stream",
     "text": [
      "16.0\n"
     ]
    }
   ],
   "source": [
    "# Calculate the square root of 256.\n",
    "print (m.sqrt(256))"
   ]
  },
  {
   "cell_type": "code",
   "execution_count": 7,
   "id": "5014ab45-3570-44fc-9983-22b8a78ce87e",
   "metadata": {},
   "outputs": [
    {
     "name": "stdout",
     "output_type": "stream",
     "text": [
      "1024\n"
     ]
    }
   ],
   "source": [
    "# Calculate 4 raised to the 5th power.\n",
    "print (4**5)"
   ]
  },
  {
   "cell_type": "code",
   "execution_count": null,
   "id": "a1dea561-d808-40ae-bc96-91e1af6c7690",
   "metadata": {},
   "outputs": [],
   "source": []
  }
 ],
 "metadata": {
  "kernelspec": {
   "display_name": "Python 3 (ipykernel)",
   "language": "python",
   "name": "python3"
  },
  "language_info": {
   "codemirror_mode": {
    "name": "ipython",
    "version": 3
   },
   "file_extension": ".py",
   "mimetype": "text/x-python",
   "name": "python",
   "nbconvert_exporter": "python",
   "pygments_lexer": "ipython3",
   "version": "3.10.9"
  }
 },
 "nbformat": 4,
 "nbformat_minor": 5
}
